{
 "cells": [
  {
   "cell_type": "markdown",
   "id": "c86b832c-c03a-47fb-b594-90d6aef56873",
   "metadata": {},
   "source": [
    "Este es un archivo de prueba"
   ]
  },
  {
   "cell_type": "code",
   "execution_count": 2,
   "id": "20e4b548-2f12-4910-87bc-e062563395fd",
   "metadata": {},
   "outputs": [
    {
     "name": "stdout",
     "output_type": "stream",
     "text": [
      "Hola Mundo\n"
     ]
    }
   ],
   "source": [
    "print(\"Hola Mundo\")"
   ]
  },
  {
   "cell_type": "code",
   "execution_count": null,
   "id": "398c5c4c-bcae-44fb-b4cc-91e1ac5120fe",
   "metadata": {},
   "outputs": [],
   "source": []
  }
 ],
 "metadata": {
  "kernelspec": {
   "display_name": "Python 3 (ipykernel)",
   "language": "python",
   "name": "python3"
  },
  "language_info": {
   "codemirror_mode": {
    "name": "ipython",
    "version": 3
   },
   "file_extension": ".py",
   "mimetype": "text/x-python",
   "name": "python",
   "nbconvert_exporter": "python",
   "pygments_lexer": "ipython3",
   "version": "3.12.7"
  }
 },
 "nbformat": 4,
 "nbformat_minor": 5
}
