{
 "cells": [
  {
   "cell_type": "markdown",
   "id": "c86b832c-c03a-47fb-b594-90d6aef56873",
   "metadata": {},
   "source": [
    "Este es un archivo de prueba"
   ]
  },
  {
   "cell_type": "code",
   "execution_count": 2,
   "id": "20e4b548-2f12-4910-87bc-e062563395fd",
   "metadata": {},
   "outputs": [
    {
     "name": "stdout",
     "output_type": "stream",
     "text": [
      "Hola Mundo\n"
     ]
    }
   ],
   "source": [
    "print(\"Hola Mundo\")"
   ]
  },
  {
   "cell_type": "code",
   "execution_count": null,
   "id": "398c5c4c-bcae-44fb-b4cc-91e1ac5120fe",
   "metadata": {},
   "outputs": [],
   "source": [
    "import os\n",
    "from os.path import dirname, join as pjoin\n",
    "import scipy.io as sio\n",
    "from scipy.io import readsav\n",
    "import numpy as np\n",
    "import pandas as pd\n",
    "import matplotlib.pyplot as plt\n",
    "import matplotlib.dates as mdates\n",
    "import matplotlib.patches as patches\n",
    "from matplotlib.patches import Rectangle\n",
    "import matplotlib.gridspec as gridspec\n",
    "import matplotlib.animation as animation\n",
    "from matplotlib.animation import FuncAnimation\n",
    "import glob\n",
    "\n",
    "import astropy.units as u\n",
    "from astropy.coordinates import SkyCoord\n",
    "from astropy.visualization import time_support\n",
    "from astropy.io import fits\n",
    "\n",
    "from datetime import datetime, timedelta\n",
    "\n",
    "import sunpy.map\n",
    "from sunpy import timeseries as ts\n",
    "from sunpy.net import Fido\n",
    "from sunpy.net import attrs as a\n",
    "from sunpy.coordinates import frames\n",
    "\n",
    "\n",
    "%matplotlib inline\n",
    "from scipy import signal\n",
    "from scipy import stats\n",
    "from scipy import integrate\n",
    "\n",
    "from scipy.optimize import curve_fit\n",
    "\n",
    "import pickle\n",
    "import math\n",
    "import scipy.constants as const\n",
    "\n",
    "from typing import List"
   ]
  }
 ],
 "metadata": {
  "kernelspec": {
   "display_name": "Python 3 (ipykernel)",
   "language": "python",
   "name": "python3"
  },
  "language_info": {
   "codemirror_mode": {
    "name": "ipython",
    "version": 3
   },
   "file_extension": ".py",
   "mimetype": "text/x-python",
   "name": "python",
   "nbconvert_exporter": "python",
   "pygments_lexer": "ipython3",
   "version": "3.12.7"
  }
 },
 "nbformat": 4,
 "nbformat_minor": 5
}
